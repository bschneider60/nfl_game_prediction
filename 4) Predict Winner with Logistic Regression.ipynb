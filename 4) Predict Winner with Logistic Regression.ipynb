{
 "cells": [
  {
   "cell_type": "markdown",
   "id": "9bbc16a2",
   "metadata": {},
   "source": [
    "# 4) Predicting Winners with Logistic Regression\n",
    "\n",
    "Finding a linear model to predict how many points a team will score had too many variables to accurately predict the winner of a game. Instead, we can try to use a logistic regression to see if a team will win or lose."
   ]
  },
  {
   "cell_type": "code",
   "execution_count": 1,
   "id": "fbfb322e",
   "metadata": {},
   "outputs": [],
   "source": [
    "#Imports\n",
    "import pandas as pd\n",
    "pd.set_option('display.max_columns', None)\n",
    "\n",
    "import seaborn as sns\n",
    "import numpy as np\n",
    "\n",
    "from sklearn.linear_model import LogisticRegression\n",
    "from sklearn import metrics\n",
    "from sklearn.model_selection import train_test_split"
   ]
  },
  {
   "cell_type": "code",
   "execution_count": 2,
   "id": "a17fba55",
   "metadata": {},
   "outputs": [],
   "source": [
    "#Read in the data\n",
    "df = pd.read_csv(r'nfl_game_logs_df.csv', index_col=0)"
   ]
  },
  {
   "cell_type": "markdown",
   "id": "426dad23",
   "metadata": {},
   "source": [
    "The null model would select a team at random and predict them to win. This would mean the picks are accurate just under 50% of the time (assuming even odds a team will win or lose, and that ties are infrequent).\n",
    "\n",
    "We can make other predictions with minimal effort that produce better results. For instance, the home team wins about 55% of the time compared to the away team.\n",
    "\n",
    "Additionally, the Elo scoring system I implented shows that the team with the higher score before the game wins about 63.5% of the time."
   ]
  },
  {
   "cell_type": "code",
   "execution_count": 3,
   "id": "ace3379b",
   "metadata": {},
   "outputs": [
    {
     "data": {
      "text/html": [
       "<div>\n",
       "<style scoped>\n",
       "    .dataframe tbody tr th:only-of-type {\n",
       "        vertical-align: middle;\n",
       "    }\n",
       "\n",
       "    .dataframe tbody tr th {\n",
       "        vertical-align: top;\n",
       "    }\n",
       "\n",
       "    .dataframe thead th {\n",
       "        text-align: right;\n",
       "    }\n",
       "</style>\n",
       "<table border=\"1\" class=\"dataframe\">\n",
       "  <thead>\n",
       "    <tr style=\"text-align: right;\">\n",
       "      <th></th>\n",
       "      <th>result</th>\n",
       "    </tr>\n",
       "  </thead>\n",
       "  <tbody>\n",
       "    <tr>\n",
       "      <th>W</th>\n",
       "      <td>0.553887</td>\n",
       "    </tr>\n",
       "    <tr>\n",
       "      <th>L</th>\n",
       "      <td>0.442109</td>\n",
       "    </tr>\n",
       "    <tr>\n",
       "      <th>T</th>\n",
       "      <td>0.004004</td>\n",
       "    </tr>\n",
       "  </tbody>\n",
       "</table>\n",
       "</div>"
      ],
      "text/plain": [
       "     result\n",
       "W  0.553887\n",
       "L  0.442109\n",
       "T  0.004004"
      ]
     },
     "execution_count": 3,
     "metadata": {},
     "output_type": "execute_result"
    }
   ],
   "source": [
    "df[df['home_team']]['result'].value_counts(normalize=True).to_frame()"
   ]
  },
  {
   "cell_type": "code",
   "execution_count": 4,
   "id": "1f2cdaa8",
   "metadata": {},
   "outputs": [
    {
     "data": {
      "text/html": [
       "<div>\n",
       "<style scoped>\n",
       "    .dataframe tbody tr th:only-of-type {\n",
       "        vertical-align: middle;\n",
       "    }\n",
       "\n",
       "    .dataframe tbody tr th {\n",
       "        vertical-align: top;\n",
       "    }\n",
       "\n",
       "    .dataframe thead th {\n",
       "        text-align: right;\n",
       "    }\n",
       "</style>\n",
       "<table border=\"1\" class=\"dataframe\">\n",
       "  <thead>\n",
       "    <tr style=\"text-align: right;\">\n",
       "      <th></th>\n",
       "      <th>result</th>\n",
       "    </tr>\n",
       "  </thead>\n",
       "  <tbody>\n",
       "    <tr>\n",
       "      <th>W</th>\n",
       "      <td>0.635969</td>\n",
       "    </tr>\n",
       "    <tr>\n",
       "      <th>L</th>\n",
       "      <td>0.360027</td>\n",
       "    </tr>\n",
       "    <tr>\n",
       "      <th>T</th>\n",
       "      <td>0.004004</td>\n",
       "    </tr>\n",
       "  </tbody>\n",
       "</table>\n",
       "</div>"
      ],
      "text/plain": [
       "     result\n",
       "W  0.635969\n",
       "L  0.360027\n",
       "T  0.004004"
      ]
     },
     "execution_count": 4,
     "metadata": {},
     "output_type": "execute_result"
    }
   ],
   "source": [
    "df.query('elo_start > elo_start_opp')['result'].value_counts(normalize=True).to_frame()"
   ]
  },
  {
   "cell_type": "markdown",
   "id": "db9b13cf",
   "metadata": {},
   "source": [
    "For simplicity, we can predict team wins instead of ties or losses."
   ]
  },
  {
   "cell_type": "code",
   "execution_count": 5,
   "id": "23a22a4d",
   "metadata": {
    "scrolled": true
   },
   "outputs": [],
   "source": [
    "df['result_letter'] = df['result_value'].map({1.0: 'W', 0.5: 'LT', 0.0: 'LT'})"
   ]
  },
  {
   "cell_type": "code",
   "execution_count": 6,
   "id": "fd8a6b05",
   "metadata": {},
   "outputs": [],
   "source": [
    "logreg = LogisticRegression()\n",
    "\n",
    "feature_cols = ['elo_opp_diff_team',\n",
    "                '8_game_avg_points_for',\n",
    "                '8_game_avg_points_for_opp',\n",
    "                '4_game_avg_exp_pts_off',\n",
    "                'home_team'\n",
    "               ]\n",
    "\n",
    "X = df[feature_cols]\n",
    "y = df['result_letter']\n",
    "\n",
    "X_train, X_test, y_train, y_test = train_test_split(X, y, random_state=123)\n",
    "\n",
    "LR = LogisticRegression()\n",
    "LR.fit(X_train, y_train)\n",
    "\n",
    "pred = LR.predict(X_test)"
   ]
  },
  {
   "cell_type": "code",
   "execution_count": 7,
   "id": "1061397b",
   "metadata": {},
   "outputs": [
    {
     "data": {
      "text/plain": [
       "0.6451451451451451"
      ]
     },
     "execution_count": 7,
     "metadata": {},
     "output_type": "execute_result"
    }
   ],
   "source": [
    "LR.score(X, y)"
   ]
  },
  {
   "cell_type": "code",
   "execution_count": 8,
   "id": "69e08c02",
   "metadata": {
    "scrolled": true
   },
   "outputs": [
    {
     "data": {
      "text/plain": [
       "0.6422691879866519"
      ]
     },
     "execution_count": 8,
     "metadata": {},
     "output_type": "execute_result"
    }
   ],
   "source": [
    "LR.score(X_train, y_train)"
   ]
  },
  {
   "cell_type": "code",
   "execution_count": 9,
   "id": "d4d15a15",
   "metadata": {
    "scrolled": true
   },
   "outputs": [
    {
     "data": {
      "text/plain": [
       "0.6537691794529686"
      ]
     },
     "execution_count": 9,
     "metadata": {},
     "output_type": "execute_result"
    }
   ],
   "source": [
    "LR.score(X_test, y_test)"
   ]
  }
 ],
 "metadata": {
  "kernelspec": {
   "display_name": "Python 3 (ipykernel)",
   "language": "python",
   "name": "python3"
  },
  "language_info": {
   "codemirror_mode": {
    "name": "ipython",
    "version": 3
   },
   "file_extension": ".py",
   "mimetype": "text/x-python",
   "name": "python",
   "nbconvert_exporter": "python",
   "pygments_lexer": "ipython3",
   "version": "3.11.4"
  }
 },
 "nbformat": 4,
 "nbformat_minor": 5
}
