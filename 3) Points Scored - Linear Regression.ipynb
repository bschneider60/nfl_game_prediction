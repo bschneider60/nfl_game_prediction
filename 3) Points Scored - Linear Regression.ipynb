{
 "cells": [
  {
   "cell_type": "markdown",
   "id": "c1f518ce",
   "metadata": {},
   "source": [
    "# 3) Points Scored - Linear Regression\n",
    "\n",
    "Predicting the exact score for a team is difficult, but I wanted to see how close the model could get."
   ]
  },
  {
   "cell_type": "code",
   "execution_count": 1,
   "id": "2e314564",
   "metadata": {},
   "outputs": [],
   "source": [
    "#Imports\n",
    "import pandas as pd\n",
    "pd.set_option('display.max_columns', None)\n",
    "\n",
    "import seaborn as sns\n",
    "import numpy as np\n",
    "\n",
    "from sklearn.linear_model import LinearRegression\n",
    "from sklearn import metrics\n",
    "from sklearn.model_selection import train_test_split"
   ]
  },
  {
   "cell_type": "code",
   "execution_count": 2,
   "id": "d253b6ed",
   "metadata": {},
   "outputs": [],
   "source": [
    "#Reading in the csv where the DataFrame was stored\n",
    "df = pd.read_csv(r'nfl_game_logs_df.csv', index_col=0)"
   ]
  },
  {
   "cell_type": "code",
   "execution_count": 3,
   "id": "e7f60345",
   "metadata": {
    "scrolled": true
   },
   "outputs": [
    {
     "data": {
      "text/html": [
       "<div>\n",
       "<style scoped>\n",
       "    .dataframe tbody tr th:only-of-type {\n",
       "        vertical-align: middle;\n",
       "    }\n",
       "\n",
       "    .dataframe tbody tr th {\n",
       "        vertical-align: top;\n",
       "    }\n",
       "\n",
       "    .dataframe thead th {\n",
       "        text-align: right;\n",
       "    }\n",
       "</style>\n",
       "<table border=\"1\" class=\"dataframe\">\n",
       "  <thead>\n",
       "    <tr style=\"text-align: right;\">\n",
       "      <th></th>\n",
       "      <th>points_for</th>\n",
       "    </tr>\n",
       "  </thead>\n",
       "  <tbody>\n",
       "    <tr>\n",
       "      <th>count</th>\n",
       "      <td>5994.000000</td>\n",
       "    </tr>\n",
       "    <tr>\n",
       "      <th>mean</th>\n",
       "      <td>22.836003</td>\n",
       "    </tr>\n",
       "    <tr>\n",
       "      <th>std</th>\n",
       "      <td>10.084374</td>\n",
       "    </tr>\n",
       "    <tr>\n",
       "      <th>min</th>\n",
       "      <td>0.000000</td>\n",
       "    </tr>\n",
       "    <tr>\n",
       "      <th>25%</th>\n",
       "      <td>16.000000</td>\n",
       "    </tr>\n",
       "    <tr>\n",
       "      <th>50%</th>\n",
       "      <td>23.000000</td>\n",
       "    </tr>\n",
       "    <tr>\n",
       "      <th>75%</th>\n",
       "      <td>30.000000</td>\n",
       "    </tr>\n",
       "    <tr>\n",
       "      <th>max</th>\n",
       "      <td>70.000000</td>\n",
       "    </tr>\n",
       "  </tbody>\n",
       "</table>\n",
       "</div>"
      ],
      "text/plain": [
       "        points_for\n",
       "count  5994.000000\n",
       "mean     22.836003\n",
       "std      10.084374\n",
       "min       0.000000\n",
       "25%      16.000000\n",
       "50%      23.000000\n",
       "75%      30.000000\n",
       "max      70.000000"
      ]
     },
     "execution_count": 3,
     "metadata": {},
     "output_type": "execute_result"
    }
   ],
   "source": [
    "#Some quick exploration on how many points each team scored\n",
    "df['points_for'].describe().to_frame()"
   ]
  },
  {
   "cell_type": "markdown",
   "id": "f35a5638",
   "metadata": {},
   "source": [
    "Points in American football are, generally speaking, scored seven or three at a time. This means that certain totals are far more likely than others, even if they are only a point different in either direction."
   ]
  },
  {
   "cell_type": "code",
   "execution_count": 4,
   "id": "4d06ad38",
   "metadata": {
    "scrolled": true
   },
   "outputs": [
    {
     "data": {
      "text/html": [
       "<div>\n",
       "<style scoped>\n",
       "    .dataframe tbody tr th:only-of-type {\n",
       "        vertical-align: middle;\n",
       "    }\n",
       "\n",
       "    .dataframe tbody tr th {\n",
       "        vertical-align: top;\n",
       "    }\n",
       "\n",
       "    .dataframe thead th {\n",
       "        text-align: right;\n",
       "    }\n",
       "</style>\n",
       "<table border=\"1\" class=\"dataframe\">\n",
       "  <thead>\n",
       "    <tr style=\"text-align: right;\">\n",
       "      <th></th>\n",
       "      <th>count</th>\n",
       "      <th>freq_percent</th>\n",
       "    </tr>\n",
       "    <tr>\n",
       "      <th>points_scored</th>\n",
       "      <th></th>\n",
       "      <th></th>\n",
       "    </tr>\n",
       "  </thead>\n",
       "  <tbody>\n",
       "    <tr>\n",
       "      <th>20</th>\n",
       "      <td>411</td>\n",
       "      <td>6.856857</td>\n",
       "    </tr>\n",
       "    <tr>\n",
       "      <th>17</th>\n",
       "      <td>404</td>\n",
       "      <td>6.740073</td>\n",
       "    </tr>\n",
       "    <tr>\n",
       "      <th>24</th>\n",
       "      <td>389</td>\n",
       "      <td>6.489823</td>\n",
       "    </tr>\n",
       "    <tr>\n",
       "      <th>27</th>\n",
       "      <td>368</td>\n",
       "      <td>6.139473</td>\n",
       "    </tr>\n",
       "    <tr>\n",
       "      <th>23</th>\n",
       "      <td>296</td>\n",
       "      <td>4.938272</td>\n",
       "    </tr>\n",
       "    <tr>\n",
       "      <th>10</th>\n",
       "      <td>266</td>\n",
       "      <td>4.437771</td>\n",
       "    </tr>\n",
       "    <tr>\n",
       "      <th>31</th>\n",
       "      <td>260</td>\n",
       "      <td>4.337671</td>\n",
       "    </tr>\n",
       "    <tr>\n",
       "      <th>13</th>\n",
       "      <td>247</td>\n",
       "      <td>4.120787</td>\n",
       "    </tr>\n",
       "    <tr>\n",
       "      <th>16</th>\n",
       "      <td>242</td>\n",
       "      <td>4.037371</td>\n",
       "    </tr>\n",
       "    <tr>\n",
       "      <th>30</th>\n",
       "      <td>210</td>\n",
       "      <td>3.503504</td>\n",
       "    </tr>\n",
       "  </tbody>\n",
       "</table>\n",
       "</div>"
      ],
      "text/plain": [
       "               count  freq_percent\n",
       "points_scored                     \n",
       "20               411      6.856857\n",
       "17               404      6.740073\n",
       "24               389      6.489823\n",
       "27               368      6.139473\n",
       "23               296      4.938272\n",
       "10               266      4.437771\n",
       "31               260      4.337671\n",
       "13               247      4.120787\n",
       "16               242      4.037371\n",
       "30               210      3.503504"
      ]
     },
     "execution_count": 4,
     "metadata": {},
     "output_type": "execute_result"
    }
   ],
   "source": [
    "points_scored = df['points_for'].value_counts().sort_index().to_frame()\n",
    "points_scored = points_scored.reindex(list(range(points_scored.index.min(), points_scored.index.max() + 1)), fill_value=0)\n",
    "points_scored.index.name = 'points_scored'\n",
    "points_scored.rename(columns={'points_for': 'count'}, inplace=True)\n",
    "points_scored['freq_percent'] = points_scored['count'] / points_scored['count'].sum() * 100\n",
    "\n",
    "\n",
    "\n",
    "points_scored.sort_values(by='count', ascending=False).head(10)"
   ]
  },
  {
   "cell_type": "code",
   "execution_count": 5,
   "id": "299c16b1",
   "metadata": {
    "scrolled": true
   },
   "outputs": [
    {
     "data": {
      "text/html": [
       "<div>\n",
       "<style scoped>\n",
       "    .dataframe tbody tr th:only-of-type {\n",
       "        vertical-align: middle;\n",
       "    }\n",
       "\n",
       "    .dataframe tbody tr th {\n",
       "        vertical-align: top;\n",
       "    }\n",
       "\n",
       "    .dataframe thead th {\n",
       "        text-align: right;\n",
       "    }\n",
       "</style>\n",
       "<table border=\"1\" class=\"dataframe\">\n",
       "  <thead>\n",
       "    <tr style=\"text-align: right;\">\n",
       "      <th></th>\n",
       "      <th>count</th>\n",
       "      <th>freq_percent</th>\n",
       "    </tr>\n",
       "    <tr>\n",
       "      <th>points_scored</th>\n",
       "      <th></th>\n",
       "      <th></th>\n",
       "    </tr>\n",
       "  </thead>\n",
       "  <tbody>\n",
       "    <tr>\n",
       "      <th>0</th>\n",
       "      <td>62</td>\n",
       "      <td>1.034368</td>\n",
       "    </tr>\n",
       "    <tr>\n",
       "      <th>1</th>\n",
       "      <td>0</td>\n",
       "      <td>0.000000</td>\n",
       "    </tr>\n",
       "    <tr>\n",
       "      <th>2</th>\n",
       "      <td>1</td>\n",
       "      <td>0.016683</td>\n",
       "    </tr>\n",
       "    <tr>\n",
       "      <th>3</th>\n",
       "      <td>107</td>\n",
       "      <td>1.785118</td>\n",
       "    </tr>\n",
       "    <tr>\n",
       "      <th>4</th>\n",
       "      <td>0</td>\n",
       "      <td>0.000000</td>\n",
       "    </tr>\n",
       "    <tr>\n",
       "      <th>5</th>\n",
       "      <td>3</td>\n",
       "      <td>0.050050</td>\n",
       "    </tr>\n",
       "    <tr>\n",
       "      <th>6</th>\n",
       "      <td>105</td>\n",
       "      <td>1.751752</td>\n",
       "    </tr>\n",
       "    <tr>\n",
       "      <th>7</th>\n",
       "      <td>124</td>\n",
       "      <td>2.068735</td>\n",
       "    </tr>\n",
       "    <tr>\n",
       "      <th>8</th>\n",
       "      <td>8</td>\n",
       "      <td>0.133467</td>\n",
       "    </tr>\n",
       "    <tr>\n",
       "      <th>9</th>\n",
       "      <td>99</td>\n",
       "      <td>1.651652</td>\n",
       "    </tr>\n",
       "    <tr>\n",
       "      <th>10</th>\n",
       "      <td>266</td>\n",
       "      <td>4.437771</td>\n",
       "    </tr>\n",
       "    <tr>\n",
       "      <th>11</th>\n",
       "      <td>21</td>\n",
       "      <td>0.350350</td>\n",
       "    </tr>\n",
       "    <tr>\n",
       "      <th>12</th>\n",
       "      <td>61</td>\n",
       "      <td>1.017684</td>\n",
       "    </tr>\n",
       "    <tr>\n",
       "      <th>13</th>\n",
       "      <td>247</td>\n",
       "      <td>4.120787</td>\n",
       "    </tr>\n",
       "    <tr>\n",
       "      <th>14</th>\n",
       "      <td>179</td>\n",
       "      <td>2.986320</td>\n",
       "    </tr>\n",
       "    <tr>\n",
       "      <th>15</th>\n",
       "      <td>55</td>\n",
       "      <td>0.917584</td>\n",
       "    </tr>\n",
       "    <tr>\n",
       "      <th>16</th>\n",
       "      <td>242</td>\n",
       "      <td>4.037371</td>\n",
       "    </tr>\n",
       "    <tr>\n",
       "      <th>17</th>\n",
       "      <td>404</td>\n",
       "      <td>6.740073</td>\n",
       "    </tr>\n",
       "    <tr>\n",
       "      <th>18</th>\n",
       "      <td>52</td>\n",
       "      <td>0.867534</td>\n",
       "    </tr>\n",
       "    <tr>\n",
       "      <th>19</th>\n",
       "      <td>147</td>\n",
       "      <td>2.452452</td>\n",
       "    </tr>\n",
       "  </tbody>\n",
       "</table>\n",
       "</div>"
      ],
      "text/plain": [
       "               count  freq_percent\n",
       "points_scored                     \n",
       "0                 62      1.034368\n",
       "1                  0      0.000000\n",
       "2                  1      0.016683\n",
       "3                107      1.785118\n",
       "4                  0      0.000000\n",
       "5                  3      0.050050\n",
       "6                105      1.751752\n",
       "7                124      2.068735\n",
       "8                  8      0.133467\n",
       "9                 99      1.651652\n",
       "10               266      4.437771\n",
       "11                21      0.350350\n",
       "12                61      1.017684\n",
       "13               247      4.120787\n",
       "14               179      2.986320\n",
       "15                55      0.917584\n",
       "16               242      4.037371\n",
       "17               404      6.740073\n",
       "18                52      0.867534\n",
       "19               147      2.452452"
      ]
     },
     "execution_count": 5,
     "metadata": {},
     "output_type": "execute_result"
    }
   ],
   "source": [
    "points_scored.head(20)"
   ]
  },
  {
   "cell_type": "markdown",
   "id": "325d8f04",
   "metadata": {},
   "source": [
    "These are the point totals that did not appear in the data set. Small totals like one and four are extremely rare in American football because they would require very rare scoring plays and nothing else for the team the rest of the game. As point values increase, there are more combinations of scoring plays that would sum to that total. Totals of 60-69 did not appear simply because they are less than the data set's maximum of 70, a clear outlier."
   ]
  },
  {
   "cell_type": "code",
   "execution_count": 6,
   "id": "495b4413",
   "metadata": {
    "scrolled": false
   },
   "outputs": [
    {
     "data": {
      "text/html": [
       "<div>\n",
       "<style scoped>\n",
       "    .dataframe tbody tr th:only-of-type {\n",
       "        vertical-align: middle;\n",
       "    }\n",
       "\n",
       "    .dataframe tbody tr th {\n",
       "        vertical-align: top;\n",
       "    }\n",
       "\n",
       "    .dataframe thead th {\n",
       "        text-align: right;\n",
       "    }\n",
       "</style>\n",
       "<table border=\"1\" class=\"dataframe\">\n",
       "  <thead>\n",
       "    <tr style=\"text-align: right;\">\n",
       "      <th></th>\n",
       "      <th>count</th>\n",
       "      <th>freq_percent</th>\n",
       "    </tr>\n",
       "    <tr>\n",
       "      <th>points_scored</th>\n",
       "      <th></th>\n",
       "      <th></th>\n",
       "    </tr>\n",
       "  </thead>\n",
       "  <tbody>\n",
       "    <tr>\n",
       "      <th>1</th>\n",
       "      <td>0</td>\n",
       "      <td>0.0</td>\n",
       "    </tr>\n",
       "    <tr>\n",
       "      <th>4</th>\n",
       "      <td>0</td>\n",
       "      <td>0.0</td>\n",
       "    </tr>\n",
       "    <tr>\n",
       "      <th>60</th>\n",
       "      <td>0</td>\n",
       "      <td>0.0</td>\n",
       "    </tr>\n",
       "    <tr>\n",
       "      <th>61</th>\n",
       "      <td>0</td>\n",
       "      <td>0.0</td>\n",
       "    </tr>\n",
       "    <tr>\n",
       "      <th>62</th>\n",
       "      <td>0</td>\n",
       "      <td>0.0</td>\n",
       "    </tr>\n",
       "    <tr>\n",
       "      <th>63</th>\n",
       "      <td>0</td>\n",
       "      <td>0.0</td>\n",
       "    </tr>\n",
       "    <tr>\n",
       "      <th>64</th>\n",
       "      <td>0</td>\n",
       "      <td>0.0</td>\n",
       "    </tr>\n",
       "    <tr>\n",
       "      <th>65</th>\n",
       "      <td>0</td>\n",
       "      <td>0.0</td>\n",
       "    </tr>\n",
       "    <tr>\n",
       "      <th>66</th>\n",
       "      <td>0</td>\n",
       "      <td>0.0</td>\n",
       "    </tr>\n",
       "    <tr>\n",
       "      <th>67</th>\n",
       "      <td>0</td>\n",
       "      <td>0.0</td>\n",
       "    </tr>\n",
       "    <tr>\n",
       "      <th>68</th>\n",
       "      <td>0</td>\n",
       "      <td>0.0</td>\n",
       "    </tr>\n",
       "    <tr>\n",
       "      <th>69</th>\n",
       "      <td>0</td>\n",
       "      <td>0.0</td>\n",
       "    </tr>\n",
       "  </tbody>\n",
       "</table>\n",
       "</div>"
      ],
      "text/plain": [
       "               count  freq_percent\n",
       "points_scored                     \n",
       "1                  0           0.0\n",
       "4                  0           0.0\n",
       "60                 0           0.0\n",
       "61                 0           0.0\n",
       "62                 0           0.0\n",
       "63                 0           0.0\n",
       "64                 0           0.0\n",
       "65                 0           0.0\n",
       "66                 0           0.0\n",
       "67                 0           0.0\n",
       "68                 0           0.0\n",
       "69                 0           0.0"
      ]
     },
     "execution_count": 6,
     "metadata": {},
     "output_type": "execute_result"
    }
   ],
   "source": [
    "points_scored.query('count == 0')"
   ]
  },
  {
   "cell_type": "markdown",
   "id": "298cf2db",
   "metadata": {},
   "source": [
    "This bar chart shows the frequencies of differnt point totals. There are many highs and lows in the graph, but we can see a vague bell-curve. Bucketing these totals into five-point ranges would account for the rarer point totals and show more of a normal distribution."
   ]
  },
  {
   "cell_type": "code",
   "execution_count": 7,
   "id": "1de5934c",
   "metadata": {
    "scrolled": false
   },
   "outputs": [
    {
     "data": {
      "image/png": "[encoded data removed]",
      "text/plain": [
       "<Figure size 640x480 with 1 Axes>"
      ]
     },
     "metadata": {},
     "output_type": "display_data"
    }
   ],
   "source": [
    "s = sns.barplot(data=points_scored, x=points_scored.index, y='count', color='steelblue');\n",
    "s.set_xticks(range(0,71,5));"
   ]
  },
  {
   "cell_type": "markdown",
   "id": "f3e761d2",
   "metadata": {},
   "source": [
    "This boxplot of points scored, like the description we saw above, gives a sense of the likely point ranges. However, it's important to remember that certain totals are very rare in American football, even if they are close in value to the median."
   ]
  },
  {
   "cell_type": "code",
   "execution_count": 8,
   "id": "4e8cbf72",
   "metadata": {
    "scrolled": false
   },
   "outputs": [
    {
     "data": {
      "image/png": "[encoded data removed]",
      "text/plain": [
       "<Figure size 640x480 with 1 Axes>"
      ]
     },
     "metadata": {},
     "output_type": "display_data"
    }
   ],
   "source": [
    "df['points_for'].to_frame().boxplot();"
   ]
  },
  {
   "cell_type": "markdown",
   "id": "6f91f1f3",
   "metadata": {},
   "source": [
    "# Linear Model"
   ]
  },
  {
   "cell_type": "markdown",
   "id": "8ed1d7e3",
   "metadata": {},
   "source": [
    "How accurate would a Linear Model be to predict the number of points a team scores in a game? Could we predict this value for both teams as a way to model the winner of the game?"
   ]
  },
  {
   "cell_type": "code",
   "execution_count": 9,
   "id": "0a6f990f",
   "metadata": {},
   "outputs": [],
   "source": [
    "def train_test_rmse(df, feature_cols):\n",
    "    X = df[feature_cols]\n",
    "    y = df['points_for']\n",
    "    \n",
    "    X_train, X_test, y_train, y_test = train_test_split(X, y, random_state=123)\n",
    "    \n",
    "    # Create a NumPy array with the same shape as y_test.\n",
    "    y_mean = np.zeros_like(y_test, dtype=float)\n",
    "    y_median = np.zeros_like(y_test, dtype=float)\n",
    "    y_mode = np.zeros_like(y_test, dtype=float)\n",
    "\n",
    "    # Fill the array with the mean value of y_test.\n",
    "    y_mean.fill(y_test.mean())\n",
    "    print('RMSE for Mean: ' + str(np.sqrt(metrics.mean_squared_error(y_test, y_mean))))\n",
    "    \n",
    "    y_median.fill(y_test.median())\n",
    "    print('RMSE for Median: ' + str(np.sqrt(metrics.mean_squared_error(y_test, y_median))))\n",
    "    \n",
    "    y_mode.fill(y_test.mode())\n",
    "    print('RMSE for Mode: ' + str(np.sqrt(metrics.mean_squared_error(y_test, y_mode))))\n",
    "    \n",
    "    \n",
    "    \n",
    "    \n",
    "    linreg = LinearRegression()\n",
    "    linreg.fit(X_train, y_train)\n",
    "    \n",
    "    y_pred = linreg.predict(X_test)\n",
    "    print('RMSE for ' + str(feature_cols) + ' is \\n' + str(np.sqrt(metrics.mean_squared_error(y_test, y_pred))))\n",
    "    print('~~~~~~~~~~~~~~~~~~~~~~~~~~~~~~~~~~~~~~~~~~~~~~~~\\n')"
   ]
  },
  {
   "cell_type": "markdown",
   "id": "4b2f14b2",
   "metadata": {},
   "source": [
    "After running the above train_test_rmse function for a number of statistics, the below list is creates the best linear regression model I could find. This gives us a RMSE of 9.43.\n",
    "\n",
    "This is better than predicting the mean points scored for every game. I also tested the median and mode since those might be better approximations for a specific score in American football, but the mean works in this case as we are concerned with getting a value close to the points scored, not picking the exact amount. (The mean points scored is 22.8, which works fine for a linear regression. But teams are much more likely to score 20, 21, or 24 points than 22 or 23."
   ]
  },
  {
   "cell_type": "code",
   "execution_count": 10,
   "id": "24a522cf",
   "metadata": {},
   "outputs": [
    {
     "name": "stdout",
     "output_type": "stream",
     "text": [
      "RMSE for Mean: 10.16302675937795\n",
      "RMSE for Median: 10.179509563004277\n",
      "RMSE for Mode: 11.593659558625461\n",
      "RMSE for ['elo_start', 'elo_start_opp', 'home_team', 'distance_travelled_opp_diff', '7_game_avg_points_for', '7_game_avg_points_allowed', '6_game_avg_tot_yds', '2_game_avg_exp_pts_off', '2_game_avg_exp_pts_def', '7_game_avg_exp_pts_st', '7_game_avg_points_allowed_opp', '7_game_avg_points_for_opp', '6_game_avg_opp_first_downs_opp', '6_game_avg_exp_pts_def_opp'] is \n",
      "9.434421682611026\n",
      "~~~~~~~~~~~~~~~~~~~~~~~~~~~~~~~~~~~~~~~~~~~~~~~~\n",
      "\n"
     ]
    }
   ],
   "source": [
    "feature_options = ['elo_start',\n",
    "                    'elo_start_opp',\n",
    "                    'home_team',\n",
    "                    'distance_travelled_opp_diff',\n",
    "                    '7_game_avg_points_for',\n",
    "                    '7_game_avg_points_allowed',\n",
    "                    '6_game_avg_tot_yds',\n",
    "                    '2_game_avg_exp_pts_off',\n",
    "                    '2_game_avg_exp_pts_def',\n",
    "                    '7_game_avg_exp_pts_st',\n",
    "                    '7_game_avg_points_allowed_opp',\n",
    "                    '7_game_avg_points_for_opp',\n",
    "                    '6_game_avg_opp_first_downs_opp',\n",
    "                    '6_game_avg_exp_pts_def_opp']\n",
    "\n",
    "train_test_rmse(df, feature_options)"
   ]
  },
  {
   "cell_type": "code",
   "execution_count": 11,
   "id": "5e11c587",
   "metadata": {
    "scrolled": true
   },
   "outputs": [
    {
     "data": {
      "text/html": [
       "<style>#sk-container-id-1 {color: black;}#sk-container-id-1 pre{padding: 0;}#sk-container-id-1 div.sk-toggleable {background-color: white;}#sk-container-id-1 label.sk-toggleable__label {cursor: pointer;display: block;width: 100%;margin-bottom: 0;padding: 0.3em;box-sizing: border-box;text-align: center;}#sk-container-id-1 label.sk-toggleable__label-arrow:before {content: \"▸\";float: left;margin-right: 0.25em;color: #696969;}#sk-container-id-1 label.sk-toggleable__label-arrow:hover:before {color: black;}#sk-container-id-1 div.sk-estimator:hover label.sk-toggleable__label-arrow:before {color: black;}#sk-container-id-1 div.sk-toggleable__content {max-height: 0;max-width: 0;overflow: hidden;text-align: left;background-color: #f0f8ff;}#sk-container-id-1 div.sk-toggleable__content pre {margin: 0.2em;color: black;border-radius: 0.25em;background-color: #f0f8ff;}#sk-container-id-1 input.sk-toggleable__control:checked~div.sk-toggleable__content {max-height: 200px;max-width: 100%;overflow: auto;}#sk-container-id-1 input.sk-toggleable__control:checked~label.sk-toggleable__label-arrow:before {content: \"▾\";}#sk-container-id-1 div.sk-estimator input.sk-toggleable__control:checked~label.sk-toggleable__label {background-color: #d4ebff;}#sk-container-id-1 div.sk-label input.sk-toggleable__control:checked~label.sk-toggleable__label {background-color: #d4ebff;}#sk-container-id-1 input.sk-hidden--visually {border: 0;clip: rect(1px 1px 1px 1px);clip: rect(1px, 1px, 1px, 1px);height: 1px;margin: -1px;overflow: hidden;padding: 0;position: absolute;width: 1px;}#sk-container-id-1 div.sk-estimator {font-family: monospace;background-color: #f0f8ff;border: 1px dotted black;border-radius: 0.25em;box-sizing: border-box;margin-bottom: 0.5em;}#sk-container-id-1 div.sk-estimator:hover {background-color: #d4ebff;}#sk-container-id-1 div.sk-parallel-item::after {content: \"\";width: 100%;border-bottom: 1px solid gray;flex-grow: 1;}#sk-container-id-1 div.sk-label:hover label.sk-toggleable__label {background-color: #d4ebff;}#sk-container-id-1 div.sk-serial::before {content: \"\";position: absolute;border-left: 1px solid gray;box-sizing: border-box;top: 0;bottom: 0;left: 50%;z-index: 0;}#sk-container-id-1 div.sk-serial {display: flex;flex-direction: column;align-items: center;background-color: white;padding-right: 0.2em;padding-left: 0.2em;position: relative;}#sk-container-id-1 div.sk-item {position: relative;z-index: 1;}#sk-container-id-1 div.sk-parallel {display: flex;align-items: stretch;justify-content: center;background-color: white;position: relative;}#sk-container-id-1 div.sk-item::before, #sk-container-id-1 div.sk-parallel-item::before {content: \"\";position: absolute;border-left: 1px solid gray;box-sizing: border-box;top: 0;bottom: 0;left: 50%;z-index: -1;}#sk-container-id-1 div.sk-parallel-item {display: flex;flex-direction: column;z-index: 1;position: relative;background-color: white;}#sk-container-id-1 div.sk-parallel-item:first-child::after {align-self: flex-end;width: 50%;}#sk-container-id-1 div.sk-parallel-item:last-child::after {align-self: flex-start;width: 50%;}#sk-container-id-1 div.sk-parallel-item:only-child::after {width: 0;}#sk-container-id-1 div.sk-dashed-wrapped {border: 1px dashed gray;margin: 0 0.4em 0.5em 0.4em;box-sizing: border-box;padding-bottom: 0.4em;background-color: white;}#sk-container-id-1 div.sk-label label {font-family: monospace;font-weight: bold;display: inline-block;line-height: 1.2em;}#sk-container-id-1 div.sk-label-container {text-align: center;}#sk-container-id-1 div.sk-container {/* jupyter's `normalize.less` sets `[hidden] { display: none; }` but bootstrap.min.css set `[hidden] { display: none !important; }` so we also need the `!important` here to be able to override the default hidden behavior on the sphinx rendered scikit-learn.org. See: https://github.com/scikit-learn/scikit-learn/issues/21755 */display: inline-block !important;position: relative;}#sk-container-id-1 div.sk-text-repr-fallback {display: none;}</style><div id=\"sk-container-id-1\" class=\"sk-top-container\"><div class=\"sk-text-repr-fallback\"><pre>LinearRegression()</pre><b>In a Jupyter environment, please rerun this cell to show the HTML representation or trust the notebook. <br />On GitHub, the HTML representation is unable to render, please try loading this page with nbviewer.org.</b></div><div class=\"sk-container\" hidden><div class=\"sk-item\"><div class=\"sk-estimator sk-toggleable\"><input class=\"sk-toggleable__control sk-hidden--visually\" id=\"sk-estimator-id-1\" type=\"checkbox\" checked><label for=\"sk-estimator-id-1\" class=\"sk-toggleable__label sk-toggleable__label-arrow\">LinearRegression</label><div class=\"sk-toggleable__content\"><pre>LinearRegression()</pre></div></div></div></div></div>"
      ],
      "text/plain": [
       "LinearRegression()"
      ]
     },
     "execution_count": 11,
     "metadata": {},
     "output_type": "execute_result"
    }
   ],
   "source": [
    "feature_cols = ['elo_start',\n",
    "                    'elo_start_opp',\n",
    "                    'home_team',\n",
    "                    'distance_travelled_opp_diff',\n",
    "                    '7_game_avg_points_for',\n",
    "                    '7_game_avg_points_allowed',\n",
    "                    '6_game_avg_tot_yds',\n",
    "                    '2_game_avg_exp_pts_off',\n",
    "                    '2_game_avg_exp_pts_def',\n",
    "                    '7_game_avg_exp_pts_st',\n",
    "                    '7_game_avg_points_allowed_opp',\n",
    "                    '7_game_avg_points_for_opp',\n",
    "                    '6_game_avg_opp_first_downs_opp',\n",
    "                    '6_game_avg_exp_pts_def_opp']\n",
    "\n",
    "X = df[feature_cols]\n",
    "y = df['points_for']\n",
    "\n",
    "X_train, X_test, y_train, y_test = train_test_split(X, y, random_state=123)\n",
    "\n",
    "LR = LinearRegression()\n",
    "LR.fit(X_train, y_train)"
   ]
  },
  {
   "cell_type": "code",
   "execution_count": 12,
   "id": "b748b736",
   "metadata": {},
   "outputs": [
    {
     "data": {
      "text/plain": [
       "9.434421682611026"
      ]
     },
     "execution_count": 12,
     "metadata": {},
     "output_type": "execute_result"
    }
   ],
   "source": [
    "y_pred = LR.predict(X_test)\n",
    "np.sqrt(metrics.mean_squared_error(y_test, y_pred))"
   ]
  },
  {
   "cell_type": "code",
   "execution_count": 13,
   "id": "d367ab51",
   "metadata": {},
   "outputs": [
    {
     "data": {
      "text/plain": [
       "11.349683016349683"
      ]
     },
     "execution_count": 13,
     "metadata": {},
     "output_type": "execute_result"
    }
   ],
   "source": [
    "df['mov_winner'].mean()"
   ]
  },
  {
   "cell_type": "markdown",
   "id": "53a6a2ac",
   "metadata": {},
   "source": [
    "The RMSE of 9.43 is a bit lower than using the mean for the linear regression. But that would need to be applied to both teams if we want to use it to pick a winner. To put that into context, the average margin of victory in the data set is over 11 points. A linear model that could swing 18 points wouldn't be very useful."
   ]
  }
 ],
 "metadata": {
  "kernelspec": {
   "display_name": "Python 3 (ipykernel)",
   "language": "python",
   "name": "python3"
  },
  "language_info": {
   "codemirror_mode": {
    "name": "ipython",
    "version": 3
   },
   "file_extension": ".py",
   "mimetype": "text/x-python",
   "name": "python",
   "nbconvert_exporter": "python",
   "pygments_lexer": "ipython3",
   "version": "3.11.4"
  }
 },
 "nbformat": 4,
 "nbformat_minor": 5
}
